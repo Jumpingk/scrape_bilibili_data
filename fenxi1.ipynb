{
 "metadata": {
  "language_info": {
   "codemirror_mode": {
    "name": "ipython",
    "version": 3
   },
   "file_extension": ".py",
   "mimetype": "text/x-python",
   "name": "python",
   "nbconvert_exporter": "python",
   "pygments_lexer": "ipython3",
   "version": "3.6.2"
  },
  "orig_nbformat": 2,
  "kernelspec": {
   "name": "python362jvsc74a57bd0a081f00b4dc266358913e0560819f742e2773db26cc27836294a354b0c894640",
   "display_name": "Python 3.6.2 64-bit ('fenxi': conda)"
  }
 },
 "nbformat": 4,
 "nbformat_minor": 2,
 "cells": [
  {
   "source": [
    "## B站【每周必看】数据初始分析\n",
    "- 数据: ./data/all_periods_data.csv\n",
    "- 数据介绍:\n",
    "数据为B站每周必看数据\n",
    "数据结构如下:\n",
    "\n",
    "| 字段名               | 说明         |\n",
    "| -------------------- | ------------ |\n",
    "| priods               | 期数         |\n",
    "| priods_date          | 期刊发布日期 |\n",
    "| title                | 标题         |\n",
    "| works_date           | 作品发布日期 |\n",
    "| author               | up主         |\n",
    "| view_counts          | 播放量       |\n",
    "| like                 | 点赞         |\n",
    "| bullet_screen_counts | 弹幕量       |\n",
    "| video_label          | 视频标签     |\n",
    "| video_link           | 视频链接     |"
   ],
   "cell_type": "markdown",
   "metadata": {}
  },
  {
   "cell_type": "code",
   "execution_count": null,
   "metadata": {},
   "outputs": [],
   "source": [
    "import numpy as np\n",
    "import pandas as pd\n",
    "import matplotlib.pyplot as plt\n",
    "import seaborn as sns\n",
    "%matplotlib inline\n",
    "import re\n",
    "from warnings import filterwarnings\n",
    "filterwarnings('ignore')\n",
    "sns.set(font='Microsoft YaHei', font_scale=1.5)"
   ]
  },
  {
   "cell_type": "code",
   "execution_count": null,
   "metadata": {},
   "outputs": [],
   "source": [
    "bli_df = pd.read_csv('./data/all_periods_data.csv', engine='python', encoding='utf-8')"
   ]
  },
  {
   "cell_type": "code",
   "execution_count": null,
   "metadata": {},
   "outputs": [],
   "source": [
    "bli_df.head(1)"
   ]
  },
  {
   "cell_type": "code",
   "execution_count": null,
   "metadata": {},
   "outputs": [],
   "source": []
  }
 ]
}